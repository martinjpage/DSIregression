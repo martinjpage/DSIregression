{
  "nbformat": 4,
  "nbformat_minor": 0,
  "metadata": {
    "colab": {
      "name": "Bayesian Linear Regression v0",
      "provenance": [],
      "collapsed_sections": []
    },
    "kernelspec": {
      "name": "python3",
      "display_name": "Python 3"
    },
    "accelerator": "GPU"
  },
  "cells": [
    {
      "cell_type": "code",
      "metadata": {
        "id": "x7WGxgtqfXrJ",
        "colab_type": "code",
        "colab": {
          "base_uri": "https://localhost:8080/",
          "height": 35
        },
        "outputId": "9ec0da79-802e-4722-ece1-200d400ff294"
      },
      "source": [
        "# Mount Google Drive\n",
        "from google.colab import drive\n",
        "drive.mount('/content/drive')"
      ],
      "execution_count": 1,
      "outputs": [
        {
          "output_type": "stream",
          "text": [
            "Drive already mounted at /content/drive; to attempt to forcibly remount, call drive.mount(\"/content/drive\", force_remount=True).\n"
          ],
          "name": "stdout"
        }
      ]
    },
    {
      "cell_type": "code",
      "metadata": {
        "id": "Lx0Wr1Oyk94R",
        "colab_type": "code",
        "colab": {
          "base_uri": "https://localhost:8080/",
          "height": 72
        },
        "outputId": "3a75ed60-d7e6-491f-a2fd-100c4605fa63"
      },
      "source": [
        "import pymc3 as pm\n",
        "import numpy as np\n",
        "import pandas as pd\n",
        "import matplotlib.pyplot as plt\n",
        "import seaborn as sns; sns.set()\n",
        "from scipy import stats, optimize\n",
        "from sklearn.datasets import load_diabetes\n",
        "from sklearn.model_selection import train_test_split"
      ],
      "execution_count": 2,
      "outputs": [
        {
          "output_type": "stream",
          "text": [
            "/usr/local/lib/python3.6/dist-packages/statsmodels/tools/_testing.py:19: FutureWarning: pandas.util.testing is deprecated. Use the functions in the public API at pandas.testing instead.\n",
            "  import pandas.util.testing as tm\n"
          ],
          "name": "stderr"
        }
      ]
    },
    {
      "cell_type": "code",
      "metadata": {
        "id": "okuwLzpdvxq6",
        "colab_type": "code",
        "colab": {}
      },
      "source": [
        "import time\n",
        "import pandas as pd\n",
        "\n",
        "def data_form(train_data, test_data):\n",
        "    '''This function takes in the training dataset and test dataset and delivers a '''\n",
        "\n",
        "    #Define target columns\n",
        "    y_columns = ['P5DA', 'RIBP', '8NN1', '7POT', '66FJ','GYSR', 'SOP4', 'RVSZ',\n",
        "                 'PYUQ', 'LJR9', 'N2MW', 'AHXO', 'BSTQ', 'FM3X','K6QO', 'QBOL',\n",
        "                 'JWFN', 'JZ9D', 'J9JW', 'GHYX', 'ECY3']\n",
        "\n",
        "    # Remove rows with missing target\n",
        "    train_data.dropna(axis=0, subset=y_columns, inplace=True)\n",
        "\n",
        "    ##-------##### MJP - 11 Sept 2020\n",
        "    #convert date using pandas\n",
        "    train_data['join_date'] = pd.to_datetime(train_data['join_date'])\n",
        "    test_data['join_date'] = pd.to_datetime(test_data['join_date'])\n",
        "\n",
        "    #add age column (== birth_year)\n",
        "    train_data['age'] = 2020 - train_data[\"birth_year\"]\n",
        "    test_data['age'] = 2020 - test_data[\"birth_year\"]\n",
        "\n",
        "    #add age_joined column (age of client when joined)\n",
        "    train_data['age_join'] = train_data['join_date'].dt.year - train_data[\"birth_year\"]\n",
        "    test_data['age_join'] = test_data['join_date'].dt.year - test_data[\"birth_year\"]\n",
        "\n",
        "    #period_client (== join_date in years; duration)\n",
        "    train_data['period_client'] = 2020 - train_data['join_date'].dt.year\n",
        "    test_data['period_client'] = 2020 - test_data['join_date'].dt.year\n",
        "\n",
        "    #use occupation_code as a category variable\n",
        "    train_data[\"occupation_code\"] = train_data[\"occupation_code\"].astype('category')\n",
        "    test_data[\"occupation_code\"] = test_data[\"occupation_code\"].astype('category')\n",
        "\n",
        "    #Separate target from predictors\n",
        "    y_train = train_data[y_columns]\n",
        "    X_train = train_data.drop(y_columns, axis = 1)\n",
        "\n",
        "    X_test = test_data.drop(y_columns, axis = 1)\n",
        "    y_test = test_data[y_columns]\n",
        "\n",
        "    # Select categorical columns and numerical columns\n",
        "    categorical_cols = [cname for cname in X_train.columns if X_train[cname].dtype == \"object\"]\n",
        "\n",
        "    numerical_cols = [cname for cname in X_train.columns if X_train[cname].dtype in ['int64', 'float64']]\n",
        "\n",
        "    # Keep selected columns only\n",
        "    my_cols = categorical_cols + numerical_cols\n",
        "    X_train = X_train[my_cols].copy()\n",
        "    X_test = X_test[my_cols].copy()\n",
        "\n",
        "    return X_train, y_train, X_test, y_test, categorical_cols, numerical_cols"
      ],
      "execution_count": 3,
      "outputs": []
    },
    {
      "cell_type": "code",
      "metadata": {
        "id": "jGOdZ81xs7uN",
        "colab_type": "code",
        "colab": {}
      },
      "source": [
        "train_data = pd.read_csv(\"/content/drive/My Drive/Regression Challenge Shared Folder/Train.csv\") \n",
        "test_data = pd.read_csv(\"/content/drive/My Drive/Regression Challenge Shared Folder/Test.csv\")\n",
        "\n",
        "X = train_data\n",
        "y_columns = ['P5DA', 'RIBP', '8NN1', '7POT', '66FJ', 'GYSR', 'SOP4', 'RVSZ', 'PYUQ', 'LJR9', 'N2MW', 'AHXO', 'BSTQ',\n",
        "                 'FM3X', 'K6QO', 'QBOL', 'JWFN', 'JZ9D', 'J9JW', 'GHYX', 'ECY3']\n",
        "y = test_data[y_columns]\n",
        "\n",
        "# Data formatting\n",
        "X_train, y_train, X_test, y_test, cat_cols, num_cols = data_form(train_data, test_data)"
      ],
      "execution_count": 4,
      "outputs": []
    },
    {
      "cell_type": "code",
      "metadata": {
        "id": "9rO1WLEKwzxI",
        "colab_type": "code",
        "colab": {}
      },
      "source": [
        "from sklearn.pipeline import Pipeline\n",
        "from sklearn.impute import SimpleImputer\n",
        "from sklearn.preprocessing import LabelEncoder, StandardScaler, RobustScaler, MinMaxScaler, OneHotEncoder\n",
        "from sklearn.compose import ColumnTransformer"
      ],
      "execution_count": 5,
      "outputs": []
    },
    {
      "cell_type": "code",
      "metadata": {
        "id": "fyR4J2OLyiJb",
        "colab_type": "code",
        "colab": {}
      },
      "source": [
        "# Preprocessing for numerical data\n",
        "numeric_transformer = Pipeline(steps=[\n",
        "        ('imputer', SimpleImputer(strategy='median')),\n",
        "        ('scaler', StandardScaler())])\n",
        "\n",
        "# Preprocessing for categorical data\n",
        "\n",
        "categorical_transformer = Pipeline(steps=[\n",
        "        ('imputer', SimpleImputer(strategy='most_frequent', fill_value='missing')),\n",
        "        ('onehot', OneHotEncoder(handle_unknown='ignore', sparse=False))])\n",
        "\n",
        "# Bundle preprocessing for numerical and categorical data\n",
        "preprocessor = ColumnTransformer(\n",
        "        transformers=[('num', numeric_transformer, num_cols), ('cat', categorical_transformer, cat_cols)])"
      ],
      "execution_count": 6,
      "outputs": []
    },
    {
      "cell_type": "code",
      "metadata": {
        "id": "YvZJV_t2yryf",
        "colab_type": "code",
        "colab": {}
      },
      "source": [
        "X_train = pd.DataFrame([preprocessor.fit(X_test)])"
      ],
      "execution_count": 7,
      "outputs": []
    },
    {
      "cell_type": "code",
      "metadata": {
        "id": "GcTH-Jqft3gG",
        "colab_type": "code",
        "colab": {}
      },
      "source": [
        "# Cast X_train into a Numpy array \n",
        "X_train = X_train.to_numpy()"
      ],
      "execution_count": 8,
      "outputs": []
    },
    {
      "cell_type": "code",
      "metadata": {
        "id": "axSCUtDilG6J",
        "colab_type": "code",
        "colab": {
          "base_uri": "https://localhost:8080/",
          "height": 268
        },
        "outputId": "c5e8a903-a7ce-4a30-b085-dc2185eb78d5"
      },
      "source": [
        "#Generate Model\n",
        "linear_model = pm.Model()\n",
        "\n",
        "with linear_model: \n",
        "    # Priors for unknown model parameters    \n",
        "    alpha = pm.Normal(\"alpha\", mu=0,sd=10)\n",
        "    betas = pm.Normal(\"betas\", mu=0,#X_tr.mean(), \n",
        "                               sd=10, \n",
        "                               shape=X.shape[1])\n",
        "    sigma = pm.HalfNormal(\"sigma\", sd=1)\n",
        "\n",
        "    # Likelihood (sampling distribution of observations)\n",
        "    likelihood = pm.Normal(\"likelihood\", mu=10, sd=sigma, observed=y_train)\n",
        "\n",
        "    # Obtain starting values via Maximum A Posteriori Estimate\n",
        "    map_estimate = pm.find_MAP(model=linear_model, fmin=optimize.fmin_powell)\n",
        "\n",
        "    # Instantiate Sampler\n",
        "    step = pm.NUTS(scaling=map_estimate)\n",
        "\n",
        "    # MCMC\n",
        "    trace = pm.sample(1000, step, start=map_estimate, progressbar=True)\n"
      ],
      "execution_count": 9,
      "outputs": [
        {
          "output_type": "stream",
          "text": [
            "/usr/local/lib/python3.6/dist-packages/pymc3/tuning/starting.py:61: UserWarning: find_MAP should not be used to initialize the NUTS sampler, simply call pymc3.sample() and it will automatically initialize NUTS in a better way.\n",
            "  warnings.warn('find_MAP should not be used to initialize the NUTS sampler, simply call pymc3.sample() and it will automatically initialize NUTS in a better way.')\n",
            "/usr/local/lib/python3.6/dist-packages/pymc3/tuning/starting.py:102: UserWarning: In future versions, set the optimization algorithm with a string. For example, use `method=\"L-BFGS-B\"` instead of `fmin=sp.optimize.fmin_l_bfgs_b\"`.\n",
            "  warnings.warn('In future versions, set the optimization algorithm with a string. '\n",
            "logp = -2.2705e+06:  28%|██▊       | 1422/5000 [00:07<00:18, 190.88it/s]"
          ],
          "name": "stderr"
        },
        {
          "output_type": "stream",
          "text": [
            "Optimization terminated successfully.\n",
            "         Current function value: 2270510.062335\n",
            "         Iterations: 2\n",
            "         Function evaluations: 1428\n"
          ],
          "name": "stdout"
        },
        {
          "output_type": "stream",
          "text": [
            "\rlogp = -2.2705e+06:  29%|██▊       | 1428/5000 [00:08<00:20, 177.58it/s]\n",
            "Sequential sampling (2 chains in 1 job)\n",
            "NUTS: [sigma, betas, alpha]\n",
            "100%|██████████| 1500/1500 [02:28<00:00, 10.13it/s]\n",
            "100%|██████████| 1500/1500 [03:11<00:00,  7.81it/s]\n"
          ],
          "name": "stderr"
        }
      ]
    },
    {
      "cell_type": "code",
      "metadata": {
        "id": "sbPqwgcElRVu",
        "colab_type": "code",
        "colab": {
          "base_uri": "https://localhost:8080/",
          "height": 177
        },
        "outputId": "5b22b3b3-6a90-42df-86bc-8652d49e68a1"
      },
      "source": [
        "# Prediction\n",
        "ppc = pm.sample_ppc(trace, model=linear_model, samples=1000)\n",
        "\n",
        "#What's the shape of this? \n",
        "list(ppc.items())[0][1].shape \n",
        "\n",
        "#Looks like I need to transpose it to get X_test samples on rows and posterior distribution samples on cols\n",
        "\n",
        "for idx in [0,1,2,3,4,5]:\n",
        "    predicted_yi = list(ppc.items())[0][1].T[idx].mean()\n",
        "    print(predicted_yi)"
      ],
      "execution_count": 10,
      "outputs": [
        {
          "output_type": "stream",
          "text": [
            "/usr/local/lib/python3.6/dist-packages/ipykernel_launcher.py:2: DeprecationWarning: sample_ppc() is deprecated.  Please use sample_posterior_predictive()\n",
            "  \n",
            "100%|██████████| 1000/1000 [00:29<00:00, 34.06it/s]\n"
          ],
          "name": "stderr"
        },
        {
          "output_type": "stream",
          "text": [
            "10.000056702824441\n",
            "10.002303871922619\n",
            "9.99825876227941\n",
            "10.002650221746954\n",
            "9.999488598077178\n",
            "10.000254815859478\n"
          ],
          "name": "stdout"
        }
      ]
    },
    {
      "cell_type": "code",
      "metadata": {
        "id": "6HSS2Xa9qx0O",
        "colab_type": "code",
        "colab": {}
      },
      "source": [
        ""
      ],
      "execution_count": 10,
      "outputs": []
    }
  ]
}